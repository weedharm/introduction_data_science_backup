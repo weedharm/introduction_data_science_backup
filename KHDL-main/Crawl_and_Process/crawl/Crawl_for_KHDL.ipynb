{
 "nbformat": 4,
 "nbformat_minor": 0,
 "metadata": {
  "accelerator": "TPU",
  "colab": {
   "name": "Crawl_for_KHDL.ipynb",
   "provenance": [],
   "collapsed_sections": [],
   "mount_file_id": "1tcn07c60mZai4K9r0iGg1tCri2QES6JQ",
   "authorship_tag": "ABX9TyO8tvKbGPVwEF5lr0+UftsW"
  },
  "kernelspec": {
   "display_name": "Python 3",
   "name": "python3"
  },
  "language_info": {
   "name": "python"
  }
 },
 "cells": [
  {
   "cell_type": "code",
   "metadata": {
    "id": "ApKaIW_Xb7tf"
   },
   "source": [
    "!pip install selenium==3.14.0\n",
    "!apt-get update \n",
    "!apt install chromium-chromedriver"
   ],
   "execution_count": null,
   "outputs": []
  },
  {
   "cell_type": "code",
   "metadata": {
    "colab": {
     "base_uri": "https://localhost:8080/"
    },
    "id": "BHgeJv9Dc0fY",
    "executionInfo": {
     "elapsed": 39,
     "status": "ok",
     "timestamp": 1636614409738,
     "user": {
      "displayName": "Nguyên Nguyễn Đức",
      "photoUrl": "https://lh3.googleusercontent.com/a/default-user=s64",
      "userId": "08811420081295608947"
     },
     "user_tz": -420
    },
    "outputId": "bb4c4c94-3ce8-4738-f40a-f79ffc92ccfc"
   },
   "source": [
    "%cd \"/content/drive/MyDrive/KHDL\""
   ],
   "execution_count": null,
   "outputs": [
    {
     "name": "stdout",
     "output_type": "stream",
     "text": [
      "/content/drive/MyDrive/KHDL\n"
     ]
    }
   ]
  },
  {
   "cell_type": "code",
   "metadata": {
    "id": "RrvYxWuOcDQp"
   },
   "source": [
    "from selenium import webdriver\n",
    "import time\n",
    "from selenium.webdriver.common.keys import Keys\n",
    "import csv\n",
    "import pandas as pd\n",
    "chrome_options = webdriver.ChromeOptions()\n",
    "chrome_options.add_argument('--headless')\n",
    "chrome_options.add_argument('--no-sandbox')\n",
    "chrome_options.add_argument('--disable-dev-shm-usage')"
   ],
   "execution_count": null,
   "outputs": []
  },
  {
   "cell_type": "code",
   "metadata": {
    "id": "n_1v_kSRcHW1"
   },
   "source": [
    "PATH = \"chromedriver\"\n",
    "hacom = \"https://www.hanoicomputer.vn/laptop\"\n",
    "phong_vu = \"https://phongvu.vn/laptop\"\n",
    "anphat = \"https://www.anphatpc.com.vn/may-tinh-xach-tay-laptop.html\""
   ],
   "execution_count": null,
   "outputs": []
  },
  {
   "cell_type": "markdown",
   "metadata": {
    "id": "QE_EG1DzgWnn"
   },
   "source": [
    "#Crawl dữ liệu từ trang web Hà Nội Computer"
   ]
  },
  {
   "cell_type": "code",
   "metadata": {
    "id": "BxR66gi3cL36"
   },
   "source": [
    "def get_url_page(base_url, num):\n",
    "    if num == 1:\n",
    "        return base_url\n",
    "    return base_url + \"/\" + str(num) + \"/\""
   ],
   "execution_count": null,
   "outputs": []
  },
  {
   "cell_type": "code",
   "metadata": {
    "id": "b-d3neCKcZd9"
   },
   "source": [
    "def crawl_data(first_driver, second_driver, base_url):\n",
    "    num_page = 1\n",
    "    list_url_crawl = []\n",
    "    list_name = []\n",
    "    while (1):\n",
    "        print(\"Page: \", num_page)\n",
    "        first_driver.get(get_url_page(base_url, num_page))\n",
    "        time.sleep(5)\n",
    "\n",
    "        total_height = int(first_driver.execute_script(\"return document.body.scrollHeight\"))\n",
    "\n",
    "        for i in range(1, total_height, 100):\n",
    "            first_driver.execute_script(\"window.scrollTo(0, {});\".format(i))\n",
    "        items = first_driver.find_elements_by_class_name(\"p-component\")\n",
    "        if len(items) == 0:\n",
    "            break\n",
    "        for item in items:\n",
    "            print(\"Crawl \", items.index(item))\n",
    "            pre_name = item.find_element_by_css_selector(\"h3.p-name\")\n",
    "            name = pre_name.find_element_by_css_selector(\"a\").text\n",
    "            url_item = pre_name.find_element_by_css_selector(\"a\").get_attribute(\"href\")\n",
    "            second_driver.get(url_item)\n",
    "            time.sleep(2)\n",
    "            second_height = int(second_driver.execute_script(\"return document.body.scrollHeight\") / 10)\n",
    "\n",
    "            for i in range(1, second_height, 100):\n",
    "                second_driver.execute_script(\"window.scrollTo(0, {});\".format(i))\n",
    "            \n",
    "            more_items = second_driver.find_elements_by_class_name(\"san-pham-list\")\n",
    "            if len(more_items) > 0:\n",
    "                for more_item in more_items:\n",
    "                    more_name = more_item.find_element_by_css_selector(\"a\").text\n",
    "                    more_link = more_item.find_element_by_css_selector(\"a\").get_attribute(\"href\")\n",
    "                    list_name.append(more_name)\n",
    "                    list_url_crawl.append(more_link)\n",
    "            list_name.append(name)\n",
    "            list_url_crawl.append(url_item)\n",
    "        num_page += 1\n",
    "            \n",
    "    return list_name, list_url_crawl"
   ],
   "execution_count": null,
   "outputs": []
  },
  {
   "cell_type": "code",
   "metadata": {
    "id": "c3klNFg9chCb"
   },
   "source": [
    "first_driver = webdriver.Chrome(PATH,chrome_options=chrome_options)\n",
    "first_driver.maximize_window()\n",
    "\n",
    "second_driver = webdriver.Chrome(PATH,chrome_options=chrome_options)\n",
    "second_driver.maximize_window()\n",
    "    \n",
    "name, link = crawl_data(first_driver, second_driver, hacom)\n",
    "data = pd.DataFrame({\"Name\" : name, \"Link\" : link})\n",
    "data.to_csv(\"Crawl_Search_HN_CPT.csv\", sep=\"\\t\", index=None)"
   ],
   "execution_count": null,
   "outputs": []
  },
  {
   "cell_type": "markdown",
   "metadata": {
    "id": "iaW3RkbbghjR"
   },
   "source": [
    "#Crawl dữ liệu từ Phong Vũ"
   ]
  },
  {
   "cell_type": "code",
   "metadata": {
    "id": "sTclRC4l89iS"
   },
   "source": [
    "def get_url(base_url, num):\n",
    "    url = base_url + \"&page=\" + str(num) \n",
    "    return url"
   ],
   "execution_count": null,
   "outputs": []
  },
  {
   "cell_type": "code",
   "metadata": {
    "id": "68SCk21P9G1Y"
   },
   "source": [
    "def crawl_phongvu(driver, base_url):\n",
    "    num_page = 1\n",
    "    list_url = []\n",
    "    list_name = []\n",
    "    while (1):\n",
    "        driver.get(get_url(base_url, num_page))\n",
    "        time.sleep(2)\n",
    "\n",
    "        total_height = int(driver.execute_script(\"return document.body.scrollHeight\"))\n",
    "\n",
    "        for i in range(1, total_height, 100):\n",
    "            driver.execute_script(\"window.scrollTo(0, {});\".format(i))\n",
    "        if num_page > 2: \n",
    "            print(\"error page\")\n",
    "            break\n",
    "        else:\n",
    "            items = driver.find_elements_by_class_name(\"css-1xhjahy\")\n",
    "            print(\"Page: \", num_page)\n",
    "            for item in items:\n",
    "                print(\"Crawl \" + str(items.index(item)) + \" of \" + str(len(items)))\n",
    "                try:\n",
    "                    name = item.find_element_by_css_selector(\".css-1h67xpm\").text\n",
    "                except:\n",
    "                    name = item.find_element_by_css_selector(\".css-3z5569\").text\n",
    "                list_name.append(name)\n",
    "                link = item.find_element_by_css_selector(\"a\").get_attribute(\"href\")\n",
    "                list_url.append(link)\n",
    "            num_page += 1\n",
    "    return list_name, list_url\n",
    "        "
   ],
   "execution_count": null,
   "outputs": []
  },
  {
   "cell_type": "markdown",
   "metadata": {
    "id": "J8lwU1abglWb"
   },
   "source": [
    "#Crawl dữ liệu từ An Phát"
   ]
  },
  {
   "cell_type": "code",
   "metadata": {
    "id": "-BEObTM1o7L_"
   },
   "source": [
    "def get_url_anphat(base_url, num_page):\n",
    "    if num_page == 1:\n",
    "        return base_url\n",
    "    return base_url + \"?page=\" + str(num_page)"
   ],
   "execution_count": null,
   "outputs": []
  },
  {
   "cell_type": "code",
   "metadata": {
    "id": "FMrufNlepMcn"
   },
   "source": [
    "def crawl_anphat(driver, base_url):\n",
    "    num_page = 1\n",
    "    list_url = []\n",
    "    list_name = []\n",
    "    while (1):\n",
    "        if num_page > 17:\n",
    "            print(\"error page\")\n",
    "            break\n",
    "        print(\"Page: \", num_page)\n",
    "        driver.get(get_url_anphat(base_url, num_page))\n",
    "        time.sleep(5)\n",
    "\n",
    "        total_height = int(driver.execute_script(\"return document.body.scrollHeight\"))\n",
    "\n",
    "        for i in range(1, total_height, 100):\n",
    "            driver.execute_script(\"window.scrollTo(0, {});\".format(i))\n",
    "        items = driver.find_elements_by_class_name(\"p-item\")\n",
    "        for item in items:\n",
    "            link = item.find_element_by_css_selector(\".p-img\").get_attribute(\"href\")\n",
    "            name = item.find_element_by_css_selector(\".p-name\").text\n",
    "            list_name.append(name)\n",
    "            list_url.append(link)\n",
    "        num_page += 1\n",
    "    return list_name, list_url"
   ],
   "execution_count": null,
   "outputs": []
  },
  {
   "cell_type": "code",
   "metadata": {
    "id": "7uLh2OtxeR8m"
   },
   "source": [
    "def crawl_anphat_2(driver, list_url):\n",
    "    list_name = []\n",
    "    list_link = []\n",
    "    for url in list_url:\n",
    "        driver.get(url)\n",
    "        time.sleep(2)\n",
    "        print(\"connect to: \", url)\n",
    "        temp_height = int(driver.execute_script(\"return document.body.scrollHeight\") / 10)\n",
    "\n",
    "        for i in range(1, temp_height, 100):\n",
    "            driver.execute_script(\"window.scrollTo(0, {});\".format(i))\n",
    "        temp = driver.find_elements_by_class_name(\"item\")\n",
    "        print(temp)\n",
    "        if len(temp) == 0:\n",
    "            continue\n",
    "        for t in temp:\n",
    "            temp_name = t.get_attribute(\"input[type='checkbox']\").text\n",
    "            print(temp_name)\n",
    "    return list_name, list_link\n"
   ],
   "execution_count": null,
   "outputs": []
  },
  {
   "cell_type": "code",
   "metadata": {
    "colab": {
     "background_save": true,
     "base_uri": "https://localhost:8080/"
    },
    "id": "C8w3TPhz9Krx",
    "executionInfo": {
     "elapsed": 45655,
     "status": "ok",
     "timestamp": 1636614469992,
     "user": {
      "displayName": "Nguyên Nguyễn Đức",
      "photoUrl": "https://lh3.googleusercontent.com/a/default-user=s64",
      "userId": "08811420081295608947"
     },
     "user_tz": -420
    },
    "outputId": "f421dac9-41db-4ce4-8711-8f068b23c332"
   },
   "source": [
    "%cd \"/content/drive/MyDrive/KHDL\"\n",
    "import pandas as pd\n",
    "driver = webdriver.Chrome(PATH,chrome_options=chrome_options)\n",
    "driver.maximize_window()\n",
    "\n",
    "name, url = crawl_phongvu(driver, phong_vu)\n",
    "# second_name, second_url = crawl_anphat_2(driver, [\"https://www.anphatpc.com.vn/laptop-apple-macbook-pro-2020-mxk62sa-a-silver_id33574.html\"])\n",
    "data = pd.DataFrame({\"Name\" : name, \"Link\" : url})\n",
    "data.to_csv(\"Crawl_Search_Phong_Vu.csv\", sep=\"\\t\", index=None)"
   ],
   "execution_count": null,
   "outputs": [
    {
     "name": "stdout",
     "output_type": "stream",
     "text": [
      "/content/drive/MyDrive/KHDL\n",
      "Page:  1\n",
      "Crawl 0 of 35\n",
      "Crawl 1 of 35\n",
      "Crawl 2 of 35\n",
      "Crawl 3 of 35\n",
      "Crawl 4 of 35\n",
      "Crawl 5 of 35\n",
      "Crawl 6 of 35\n",
      "Crawl 7 of 35\n",
      "Crawl 8 of 35\n",
      "Crawl 9 of 35\n",
      "Crawl 10 of 35\n",
      "Crawl 11 of 35\n",
      "Crawl 12 of 35\n",
      "Crawl 13 of 35\n",
      "Crawl 14 of 35\n",
      "Crawl 15 of 35\n",
      "Crawl 16 of 35\n",
      "Crawl 17 of 35\n",
      "Crawl 18 of 35\n",
      "Crawl 19 of 35\n",
      "Crawl 20 of 35\n",
      "Crawl 21 of 35\n",
      "Crawl 22 of 35\n",
      "Crawl 23 of 35\n",
      "Crawl 24 of 35\n",
      "Crawl 25 of 35\n",
      "Crawl 26 of 35\n",
      "Crawl 27 of 35\n",
      "Crawl 28 of 35\n",
      "Crawl 29 of 35\n",
      "Crawl 30 of 35\n",
      "Crawl 31 of 35\n",
      "Crawl 32 of 35\n",
      "Crawl 33 of 35\n",
      "Crawl 34 of 35\n",
      "Page:  2\n",
      "Crawl 0 of 25\n",
      "Crawl 1 of 25\n",
      "Crawl 2 of 25\n",
      "Crawl 3 of 25\n",
      "Crawl 4 of 25\n",
      "Crawl 5 of 25\n",
      "Crawl 6 of 25\n",
      "Crawl 7 of 25\n",
      "Crawl 8 of 25\n",
      "Crawl 9 of 25\n",
      "Crawl 10 of 25\n",
      "Crawl 11 of 25\n",
      "Crawl 12 of 25\n",
      "Crawl 13 of 25\n",
      "Crawl 14 of 25\n",
      "Crawl 15 of 25\n",
      "Crawl 16 of 25\n",
      "Crawl 17 of 25\n",
      "Crawl 18 of 25\n",
      "Crawl 19 of 25\n",
      "Crawl 20 of 25\n",
      "Crawl 21 of 25\n",
      "Crawl 22 of 25\n",
      "Crawl 23 of 25\n",
      "Crawl 24 of 25\n",
      "error page\n"
     ]
    }
   ]
  },
  {
   "cell_type": "markdown",
   "metadata": {
    "id": "E0EMJRfegpEl"
   },
   "source": [
    "#Hiển thị kết quả crawl"
   ]
  },
  {
   "cell_type": "code",
   "metadata": {
    "colab": {
     "base_uri": "https://localhost:8080/",
     "height": 434
    },
    "id": "L7UA39c3yv9E",
    "executionInfo": {
     "elapsed": 311,
     "status": "ok",
     "timestamp": 1636560737915,
     "user": {
      "displayName": "Nguyên Nguyễn Đức",
      "photoUrl": "https://lh3.googleusercontent.com/a/default-user=s64",
      "userId": "08811420081295608947"
     },
     "user_tz": -420
    },
    "outputId": "b302dc30-6343-44a6-c820-e0ac7031d83f"
   },
   "source": [
    "%cd \"/content/drive/MyDrive/KHDL\"\n",
    "import pandas as pd\n",
    "data_1 = pd.read_csv(\"Crawl_Search_An_Phat.csv\", sep=\"\\t\")\n",
    "data_2 = pd.read_csv(\"Crawl_Search_HN_CPT.csv\", sep=\"\\t\")\n",
    "data_3 = pd.read_csv(\"Crawl_Search_Phong_Vu.csv\", sep=\"\\t\")\n",
    "data = data_1.append(data_2)\n",
    "data = data.append(data_3)\n",
    "data"
   ],
   "execution_count": null,
   "outputs": [
    {
     "name": "stdout",
     "output_type": "stream",
     "text": [
      "/content/drive/MyDrive/KHDL\n"
     ]
    },
    {
     "data": {
      "text/html": [
       "<div>\n",
       "<style scoped>\n",
       "    .dataframe tbody tr th:only-of-type {\n",
       "        vertical-align: middle;\n",
       "    }\n",
       "\n",
       "    .dataframe tbody tr th {\n",
       "        vertical-align: top;\n",
       "    }\n",
       "\n",
       "    .dataframe thead th {\n",
       "        text-align: right;\n",
       "    }\n",
       "</style>\n",
       "<table border=\"1\" class=\"dataframe\">\n",
       "  <thead>\n",
       "    <tr style=\"text-align: right;\">\n",
       "      <th></th>\n",
       "      <th>Name</th>\n",
       "      <th>Link</th>\n",
       "    </tr>\n",
       "  </thead>\n",
       "  <tbody>\n",
       "    <tr>\n",
       "      <th>0</th>\n",
       "      <td>Laptop Acer Gaming Nitro 5 Eagle AN515-57-720A...</td>\n",
       "      <td>https://www.anphatpc.com.vn/laptop-acer-gaming...</td>\n",
       "    </tr>\n",
       "    <tr>\n",
       "      <th>1</th>\n",
       "      <td>Laptop LG Gram 2021 16Z90P-G.AH73A5 (Core i7-1...</td>\n",
       "      <td>https://www.anphatpc.com.vn/laptop-lg-gram-202...</td>\n",
       "    </tr>\n",
       "    <tr>\n",
       "      <th>2</th>\n",
       "      <td>Laptop Asus ROG Strix G15 G513IC-HN002T (Ryzen...</td>\n",
       "      <td>https://www.anphatpc.com.vn/laptop-asus-rog-st...</td>\n",
       "    </tr>\n",
       "    <tr>\n",
       "      <th>3</th>\n",
       "      <td>Laptop Lenovo V15 G2 ITL 82KB00CHVN (Core™ i5-...</td>\n",
       "      <td>https://www.anphatpc.com.vn/laptop-lenovo-v15-...</td>\n",
       "    </tr>\n",
       "    <tr>\n",
       "      <th>4</th>\n",
       "      <td>Laptop Asus TUF Gaming A15 FA506QM-HN016T (Ryz...</td>\n",
       "      <td>https://www.anphatpc.com.vn/laptop-asus-tuf-ga...</td>\n",
       "    </tr>\n",
       "    <tr>\n",
       "      <th>...</th>\n",
       "      <td>...</td>\n",
       "      <td>...</td>\n",
       "    </tr>\n",
       "    <tr>\n",
       "      <th>50</th>\n",
       "      <td>Laptop ASUS UX482EA-KA268T 90NB0S41-M05040 ( 1...</td>\n",
       "      <td>https://phongvu.vn/may-tinh-xach-tay-laptop-as...</td>\n",
       "    </tr>\n",
       "    <tr>\n",
       "      <th>51</th>\n",
       "      <td>Laptop Dell Alienware M15 Ryzen Edition R5 702...</td>\n",
       "      <td>https://phongvu.vn/may-tinh-xach-tay-laptop-de...</td>\n",
       "    </tr>\n",
       "    <tr>\n",
       "      <th>52</th>\n",
       "      <td>Laptop Dell Alienware M15 R6 70262923 ( 15.6\" ...</td>\n",
       "      <td>https://phongvu.vn/may-tinh-xach-tay-laptop-de...</td>\n",
       "    </tr>\n",
       "    <tr>\n",
       "      <th>53</th>\n",
       "      <td>Laptop ACER Nitro 5 AN515-57-56S5 NH.QEKSV.001...</td>\n",
       "      <td>https://phongvu.vn/may-tinh-xach-tay-laptop-ac...</td>\n",
       "    </tr>\n",
       "    <tr>\n",
       "      <th>54</th>\n",
       "      <td>Laptop ASUS FX516PM-HN002W 90NR05X1-M06730 ( 1...</td>\n",
       "      <td>https://phongvu.vn/may-tinh-xach-tay-laptop-as...</td>\n",
       "    </tr>\n",
       "  </tbody>\n",
       "</table>\n",
       "<p>1634 rows × 2 columns</p>\n",
       "</div>"
      ],
      "text/plain": [
       "                                                 Name                                               Link\n",
       "0   Laptop Acer Gaming Nitro 5 Eagle AN515-57-720A...  https://www.anphatpc.com.vn/laptop-acer-gaming...\n",
       "1   Laptop LG Gram 2021 16Z90P-G.AH73A5 (Core i7-1...  https://www.anphatpc.com.vn/laptop-lg-gram-202...\n",
       "2   Laptop Asus ROG Strix G15 G513IC-HN002T (Ryzen...  https://www.anphatpc.com.vn/laptop-asus-rog-st...\n",
       "3   Laptop Lenovo V15 G2 ITL 82KB00CHVN (Core™ i5-...  https://www.anphatpc.com.vn/laptop-lenovo-v15-...\n",
       "4   Laptop Asus TUF Gaming A15 FA506QM-HN016T (Ryz...  https://www.anphatpc.com.vn/laptop-asus-tuf-ga...\n",
       "..                                                ...                                                ...\n",
       "50  Laptop ASUS UX482EA-KA268T 90NB0S41-M05040 ( 1...  https://phongvu.vn/may-tinh-xach-tay-laptop-as...\n",
       "51  Laptop Dell Alienware M15 Ryzen Edition R5 702...  https://phongvu.vn/may-tinh-xach-tay-laptop-de...\n",
       "52  Laptop Dell Alienware M15 R6 70262923 ( 15.6\" ...  https://phongvu.vn/may-tinh-xach-tay-laptop-de...\n",
       "53  Laptop ACER Nitro 5 AN515-57-56S5 NH.QEKSV.001...  https://phongvu.vn/may-tinh-xach-tay-laptop-ac...\n",
       "54  Laptop ASUS FX516PM-HN002W 90NR05X1-M06730 ( 1...  https://phongvu.vn/may-tinh-xach-tay-laptop-as...\n",
       "\n",
       "[1634 rows x 2 columns]"
      ]
     },
     "execution_count": 37,
     "metadata": {},
     "output_type": "execute_result"
    }
   ]
  },
  {
   "cell_type": "code",
   "metadata": {
    "colab": {
     "base_uri": "https://localhost:8080/",
     "height": 417
    },
    "id": "_yse_pxTntJj",
    "executionInfo": {
     "elapsed": 324,
     "status": "ok",
     "timestamp": 1636560741819,
     "user": {
      "displayName": "Nguyên Nguyễn Đức",
      "photoUrl": "https://lh3.googleusercontent.com/a/default-user=s64",
      "userId": "08811420081295608947"
     },
     "user_tz": -420
    },
    "outputId": "45e8aa76-ebcb-4e0c-9a52-861b7f3d3f50"
   },
   "source": [
    "data_1"
   ],
   "execution_count": null,
   "outputs": [
    {
     "data": {
      "text/html": [
       "<div>\n",
       "<style scoped>\n",
       "    .dataframe tbody tr th:only-of-type {\n",
       "        vertical-align: middle;\n",
       "    }\n",
       "\n",
       "    .dataframe tbody tr th {\n",
       "        vertical-align: top;\n",
       "    }\n",
       "\n",
       "    .dataframe thead th {\n",
       "        text-align: right;\n",
       "    }\n",
       "</style>\n",
       "<table border=\"1\" class=\"dataframe\">\n",
       "  <thead>\n",
       "    <tr style=\"text-align: right;\">\n",
       "      <th></th>\n",
       "      <th>Name</th>\n",
       "      <th>Link</th>\n",
       "    </tr>\n",
       "  </thead>\n",
       "  <tbody>\n",
       "    <tr>\n",
       "      <th>0</th>\n",
       "      <td>Laptop Acer Gaming Nitro 5 Eagle AN515-57-720A...</td>\n",
       "      <td>https://www.anphatpc.com.vn/laptop-acer-gaming...</td>\n",
       "    </tr>\n",
       "    <tr>\n",
       "      <th>1</th>\n",
       "      <td>Laptop LG Gram 2021 16Z90P-G.AH73A5 (Core i7-1...</td>\n",
       "      <td>https://www.anphatpc.com.vn/laptop-lg-gram-202...</td>\n",
       "    </tr>\n",
       "    <tr>\n",
       "      <th>2</th>\n",
       "      <td>Laptop Asus ROG Strix G15 G513IC-HN002T (Ryzen...</td>\n",
       "      <td>https://www.anphatpc.com.vn/laptop-asus-rog-st...</td>\n",
       "    </tr>\n",
       "    <tr>\n",
       "      <th>3</th>\n",
       "      <td>Laptop Lenovo V15 G2 ITL 82KB00CHVN (Core™ i5-...</td>\n",
       "      <td>https://www.anphatpc.com.vn/laptop-lenovo-v15-...</td>\n",
       "    </tr>\n",
       "    <tr>\n",
       "      <th>4</th>\n",
       "      <td>Laptop Asus TUF Gaming A15 FA506QM-HN016T (Ryz...</td>\n",
       "      <td>https://www.anphatpc.com.vn/laptop-asus-tuf-ga...</td>\n",
       "    </tr>\n",
       "    <tr>\n",
       "      <th>...</th>\n",
       "      <td>...</td>\n",
       "      <td>...</td>\n",
       "    </tr>\n",
       "    <tr>\n",
       "      <th>653</th>\n",
       "      <td>Laptop Apple Macbook Pro 16-inch MVVM2SA/A Silver</td>\n",
       "      <td>https://www.anphatpc.com.vn/laptop-apple-macbo...</td>\n",
       "    </tr>\n",
       "    <tr>\n",
       "      <th>654</th>\n",
       "      <td>Laptop Asus ROG ZEPHYRUS S GX502LWS-HF070T</td>\n",
       "      <td>https://www.anphatpc.com.vn/laptop-asus-rog-ze...</td>\n",
       "    </tr>\n",
       "    <tr>\n",
       "      <th>655</th>\n",
       "      <td>Laptop Apple Macbook Pro 2020 MWP72SA/A (Silver)</td>\n",
       "      <td>https://www.anphatpc.com.vn/laptop-apple-macbo...</td>\n",
       "    </tr>\n",
       "    <tr>\n",
       "      <th>656</th>\n",
       "      <td>Laptop Apple Macbook Pro 2020 MWP42SA/A (Space...</td>\n",
       "      <td>https://www.anphatpc.com.vn/laptop-apple-macbo...</td>\n",
       "    </tr>\n",
       "    <tr>\n",
       "      <th>657</th>\n",
       "      <td>Laptop Asus ROG Zephyrus Duo 15 GX550LXS-HC055R</td>\n",
       "      <td>https://www.anphatpc.com.vn/laptop-asus-rog-ze...</td>\n",
       "    </tr>\n",
       "  </tbody>\n",
       "</table>\n",
       "<p>658 rows × 2 columns</p>\n",
       "</div>"
      ],
      "text/plain": [
       "                                                  Name                                               Link\n",
       "0    Laptop Acer Gaming Nitro 5 Eagle AN515-57-720A...  https://www.anphatpc.com.vn/laptop-acer-gaming...\n",
       "1    Laptop LG Gram 2021 16Z90P-G.AH73A5 (Core i7-1...  https://www.anphatpc.com.vn/laptop-lg-gram-202...\n",
       "2    Laptop Asus ROG Strix G15 G513IC-HN002T (Ryzen...  https://www.anphatpc.com.vn/laptop-asus-rog-st...\n",
       "3    Laptop Lenovo V15 G2 ITL 82KB00CHVN (Core™ i5-...  https://www.anphatpc.com.vn/laptop-lenovo-v15-...\n",
       "4    Laptop Asus TUF Gaming A15 FA506QM-HN016T (Ryz...  https://www.anphatpc.com.vn/laptop-asus-tuf-ga...\n",
       "..                                                 ...                                                ...\n",
       "653  Laptop Apple Macbook Pro 16-inch MVVM2SA/A Silver  https://www.anphatpc.com.vn/laptop-apple-macbo...\n",
       "654         Laptop Asus ROG ZEPHYRUS S GX502LWS-HF070T  https://www.anphatpc.com.vn/laptop-asus-rog-ze...\n",
       "655   Laptop Apple Macbook Pro 2020 MWP72SA/A (Silver)  https://www.anphatpc.com.vn/laptop-apple-macbo...\n",
       "656  Laptop Apple Macbook Pro 2020 MWP42SA/A (Space...  https://www.anphatpc.com.vn/laptop-apple-macbo...\n",
       "657    Laptop Asus ROG Zephyrus Duo 15 GX550LXS-HC055R  https://www.anphatpc.com.vn/laptop-asus-rog-ze...\n",
       "\n",
       "[658 rows x 2 columns]"
      ]
     },
     "execution_count": 38,
     "metadata": {},
     "output_type": "execute_result"
    }
   ]
  },
  {
   "cell_type": "code",
   "metadata": {
    "colab": {
     "base_uri": "https://localhost:8080/",
     "height": 417
    },
    "id": "tE1YirD9nvaq",
    "executionInfo": {
     "elapsed": 307,
     "status": "ok",
     "timestamp": 1636560744667,
     "user": {
      "displayName": "Nguyên Nguyễn Đức",
      "photoUrl": "https://lh3.googleusercontent.com/a/default-user=s64",
      "userId": "08811420081295608947"
     },
     "user_tz": -420
    },
    "outputId": "df0a3632-9dd8-4702-a6f2-5020e8b6cdb8"
   },
   "source": [
    "data_2"
   ],
   "execution_count": null,
   "outputs": [
    {
     "data": {
      "text/html": [
       "<div>\n",
       "<style scoped>\n",
       "    .dataframe tbody tr th:only-of-type {\n",
       "        vertical-align: middle;\n",
       "    }\n",
       "\n",
       "    .dataframe tbody tr th {\n",
       "        vertical-align: top;\n",
       "    }\n",
       "\n",
       "    .dataframe thead th {\n",
       "        text-align: right;\n",
       "    }\n",
       "</style>\n",
       "<table border=\"1\" class=\"dataframe\">\n",
       "  <thead>\n",
       "    <tr style=\"text-align: right;\">\n",
       "      <th></th>\n",
       "      <th>Name</th>\n",
       "      <th>Link</th>\n",
       "    </tr>\n",
       "  </thead>\n",
       "  <tbody>\n",
       "    <tr>\n",
       "      <th>0</th>\n",
       "      <td>LAPTOP ASUS ZENBOOK UX325EA-KG363T (I5 1135G7/...</td>\n",
       "      <td>https://www.hanoicomputer.vn/laptop-asus-zenbo...</td>\n",
       "    </tr>\n",
       "    <tr>\n",
       "      <th>1</th>\n",
       "      <td>LAPTOP ASUS GAMING ROG FLOW 13 GV301QC-K6029T ...</td>\n",
       "      <td>https://www.hanoicomputer.vn/laptop-asus-gamin...</td>\n",
       "    </tr>\n",
       "    <tr>\n",
       "      <th>2</th>\n",
       "      <td>LAPTOP LENOVO THINKPAD X1 GEN 9 (20XW0076VN) (...</td>\n",
       "      <td>https://www.hanoicomputer.vn/laptop-lenovo-thi...</td>\n",
       "    </tr>\n",
       "    <tr>\n",
       "      <th>3</th>\n",
       "      <td>LAPTOP LENOVO LEGION 7 16ACHG6 (82N60039VN) (R...</td>\n",
       "      <td>https://www.hanoicomputer.vn/laptop-lenovo-leg...</td>\n",
       "    </tr>\n",
       "    <tr>\n",
       "      <th>4</th>\n",
       "      <td>LAPTOP ACER GAMING PREDATOR TRITON 300 (PT315-...</td>\n",
       "      <td>https://www.hanoicomputer.vn/laptop-acer-gamin...</td>\n",
       "    </tr>\n",
       "    <tr>\n",
       "      <th>...</th>\n",
       "      <td>...</td>\n",
       "      <td>...</td>\n",
       "    </tr>\n",
       "    <tr>\n",
       "      <th>916</th>\n",
       "      <td>LAPTOP LENOVO LEGION 5-15ACH6A (82NW003BVN) (R...</td>\n",
       "      <td>https://www.hanoicomputer.vn/laptop-lenovo-leg...</td>\n",
       "    </tr>\n",
       "    <tr>\n",
       "      <th>917</th>\n",
       "      <td>LAPTOP LENOVO LEGION 5-15ACH6A (82NW003CVN) (R...</td>\n",
       "      <td>https://www.hanoicomputer.vn/laptop-lenovo-leg...</td>\n",
       "    </tr>\n",
       "    <tr>\n",
       "      <th>918</th>\n",
       "      <td>LAPTOP DELL INSPIRON 3501 (70253897) (I5 1135G...</td>\n",
       "      <td>https://www.hanoicomputer.vn/laptop-dell-inspi...</td>\n",
       "    </tr>\n",
       "    <tr>\n",
       "      <th>919</th>\n",
       "      <td>LAPTOP DELL VOSTRO 3400 (70253899) (I3 1115G4/...</td>\n",
       "      <td>https://www.hanoicomputer.vn/laptop-dell-vostr...</td>\n",
       "    </tr>\n",
       "    <tr>\n",
       "      <th>920</th>\n",
       "      <td>LAPTOP DELL ALLIENWARE GAMING M15 R6 (70262923...</td>\n",
       "      <td>https://www.hanoicomputer.vn/laptop-dell-allie...</td>\n",
       "    </tr>\n",
       "  </tbody>\n",
       "</table>\n",
       "<p>921 rows × 2 columns</p>\n",
       "</div>"
      ],
      "text/plain": [
       "                                                  Name                                               Link\n",
       "0    LAPTOP ASUS ZENBOOK UX325EA-KG363T (I5 1135G7/...  https://www.hanoicomputer.vn/laptop-asus-zenbo...\n",
       "1    LAPTOP ASUS GAMING ROG FLOW 13 GV301QC-K6029T ...  https://www.hanoicomputer.vn/laptop-asus-gamin...\n",
       "2    LAPTOP LENOVO THINKPAD X1 GEN 9 (20XW0076VN) (...  https://www.hanoicomputer.vn/laptop-lenovo-thi...\n",
       "3    LAPTOP LENOVO LEGION 7 16ACHG6 (82N60039VN) (R...  https://www.hanoicomputer.vn/laptop-lenovo-leg...\n",
       "4    LAPTOP ACER GAMING PREDATOR TRITON 300 (PT315-...  https://www.hanoicomputer.vn/laptop-acer-gamin...\n",
       "..                                                 ...                                                ...\n",
       "916  LAPTOP LENOVO LEGION 5-15ACH6A (82NW003BVN) (R...  https://www.hanoicomputer.vn/laptop-lenovo-leg...\n",
       "917  LAPTOP LENOVO LEGION 5-15ACH6A (82NW003CVN) (R...  https://www.hanoicomputer.vn/laptop-lenovo-leg...\n",
       "918  LAPTOP DELL INSPIRON 3501 (70253897) (I5 1135G...  https://www.hanoicomputer.vn/laptop-dell-inspi...\n",
       "919  LAPTOP DELL VOSTRO 3400 (70253899) (I3 1115G4/...  https://www.hanoicomputer.vn/laptop-dell-vostr...\n",
       "920  LAPTOP DELL ALLIENWARE GAMING M15 R6 (70262923...  https://www.hanoicomputer.vn/laptop-dell-allie...\n",
       "\n",
       "[921 rows x 2 columns]"
      ]
     },
     "execution_count": 39,
     "metadata": {},
     "output_type": "execute_result"
    }
   ]
  },
  {
   "cell_type": "code",
   "metadata": {
    "id": "7c0uKA4anuet"
   },
   "source": [
    "data_3"
   ],
   "execution_count": null,
   "outputs": []
  },
  {
   "cell_type": "markdown",
   "source": [],
   "metadata": {
    "id": "sPrI9ZdtmrdR",
    "pycharm": {
     "name": "#%% md\n"
    }
   }
  }
 ]
}